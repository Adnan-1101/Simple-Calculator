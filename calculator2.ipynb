{
 "cells": [
  {
   "cell_type": "code",
   "execution_count": null,
   "id": "62606d9d",
   "metadata": {},
   "outputs": [],
   "source": []
  },
  {
   "cell_type": "code",
   "execution_count": 87,
   "id": "a789c5d6",
   "metadata": {},
   "outputs": [],
   "source": [
    "from tkinter import *"
   ]
  },
  {
   "cell_type": "code",
   "execution_count": 88,
   "id": "71a36cd9",
   "metadata": {},
   "outputs": [],
   "source": [
    "calculation = \"\""
   ]
  },
  {
   "cell_type": "code",
   "execution_count": 89,
   "id": "de2025ca",
   "metadata": {},
   "outputs": [],
   "source": [
    "def add_to_calculation(symbol):\n",
    "    global calculation\n",
    "    calculation += str(symbol)\n",
    "    text_result.delete(1.0, \"end\")\n",
    "    text_result.insert(1.0, calculation)\n",
    "\n",
    "def evaluate_calculation():\n",
    "    global calculation\n",
    "    try:\n",
    "        calculation = str(eval(calculation))\n",
    "        text_result.delete(1.0, \"end\")\n",
    "        text_result.insert(1.0, calculation)\n",
    "    except:\n",
    "        clear_field()\n",
    "        text_result.insert(1.0, \"Error\")\n",
    "        \n",
    "def clear_field():\n",
    "    global calculation\n",
    "    calculation = \"\"\n",
    "    text_result.delete(1.0, \"end\")"
   ]
  },
  {
   "cell_type": "code",
   "execution_count": 90,
   "id": "f2a019fd",
   "metadata": {},
   "outputs": [],
   "source": [
    "window = Tk()\n",
    "window.title(\"Simple calculator\")\n",
    "photo = PhotoImage(file = \"test.PNG\")\n",
    "window.iconphoto(False, photo)\n",
    "window.geometry(\"265x275\")\n",
    "text_result = Text(window, height= 2, width = 16,fg = \"black\",bg = \"yellow\", font = (\"Times New Roman bold\", 24))\n",
    "text_result.grid(columnspan = 5)\n",
    "\n",
    "btn_1 = tk.Button(window, text = \"1\",fg =\"red\",bg = \"black\", command = lambda: add_to_calculation(1), width = 5, font = (\"Times New Roman bold\", 14))\n",
    "btn_1.grid(row = 2, column = 1)\n",
    "btn_2 = tk.Button(window, text = \"2\",fg =\"red\",bg = \"black\", command = lambda: add_to_calculation(2), width = 5, font = (\"Times New Roman bold\", 14))\n",
    "btn_2.grid(row = 2, column = 2)\n",
    "btn_3 = tk.Button(window, text = \"3\",fg =\"red\",bg = \"black\", command = lambda: add_to_calculation(3), width = 5, font = (\"Times New Roman bold\", 14))\n",
    "btn_3.grid(row = 2, column = 3)\n",
    "btn_4 = tk.Button(window, text = \"4\",fg =\"red\",bg = \"black\", command = lambda: add_to_calculation(4), width = 5, font = (\"Times New Roman bold\", 14))\n",
    "btn_4.grid(row = 3, column = 1)\n",
    "btn_5 = tk.Button(window, text = \"5\",fg =\"red\",bg = \"black\", command = lambda: add_to_calculation(5), width = 5, font = (\"Times New Roman bold\", 14))\n",
    "btn_5.grid(row = 3, column = 2)\n",
    "btn_6 = tk.Button(window, text = \"6\",fg =\"red\",bg = \"black\", command = lambda: add_to_calculation(6), width = 5, font = (\"Times New Roman bold\", 14))\n",
    "btn_6.grid(row = 3, column = 3)\n",
    "btn_7 = tk.Button(window, text = \"7\",fg =\"red\",bg = \"black\", command = lambda: add_to_calculation(7), width = 5, font = (\"Times New Roman bold\", 14))\n",
    "btn_7.grid(row = 4, column = 1)\n",
    "btn_8 = tk.Button(window, text = \"8\",fg =\"red\",bg = \"black\", command = lambda: add_to_calculation(8), width = 5, font = (\"Times New Roman bold\", 14))\n",
    "btn_8.grid(row = 4, column = 2)\n",
    "btn_9 = tk.Button(window, text = \"9\",fg =\"red\",bg = \"black\", command = lambda: add_to_calculation(9), width = 5, font = (\"Times New Roman bold\", 14))\n",
    "btn_9.grid(row = 4, column = 3)\n",
    "btn_0 = tk.Button(window, text = \"0\",fg =\"red\",bg = \"black\", command = lambda: add_to_calculation(0), width = 5, font = (\"Times New Roman bold\", 14))\n",
    "btn_0.grid(row = 5, column = 2)\n",
    "btn_plus = tk.Button(window, text = \"+\",fg =\"red\",bg = \"black\", command = lambda: add_to_calculation(\"+\"), width = 5, font = (\"Times New Roman bold\", 14))\n",
    "btn_plus.grid(row = 2, column = 4)\n",
    "btn_minus = tk.Button(window, text = \"-\",fg =\"red\",bg = \"black\", command = lambda: add_to_calculation(\"-\"), width = 5, font = (\"Times New Roman bold\", 14))\n",
    "btn_minus.grid(row = 3, column = 4)\n",
    "btn_mul = tk.Button(window, text = \"*\",fg =\"red\",bg = \"black\", command = lambda: add_to_calculation(\"*\"), width = 5, font = (\"Times New Roman bold\", 14))\n",
    "btn_mul.grid(row = 4, column = 4)\n",
    "btn_div = tk.Button(window, text = \"/\",fg =\"red\",bg = \"black\", command = lambda: add_to_calculation(\"/\"), width = 5, font = (\"Times New Roman bold\", 14))\n",
    "btn_div.grid(row = 5, column = 4)\n",
    "btn_open = tk.Button(window, text = \"(\",fg =\"red\",bg = \"black\", command = lambda: add_to_calculation(\"(\"), width = 5, font = (\"Times New Roman bold\", 14))\n",
    "btn_open.grid(row = 5, column = 1)\n",
    "btn_close = tk.Button(window, text = \")\",fg =\"red\",bg = \"black\", command = lambda: add_to_calculation(\")\"), width = 5, font = (\"Times New Roman bold\", 14))\n",
    "btn_close.grid(row = 5, column = 3)\n",
    "btn_clear = tk.Button(window, text = \"C\",fg =\"red\",bg = \"black\", command = clear_field, width = 11, font = (\"Times New Roman bold\", 14))\n",
    "btn_clear.grid(row = 6, column = 1, columnspan = 2)\n",
    "btn_equals = tk.Button(window, text = \"=\",fg =\"red\",bg = \"black\", command =  evaluate_calculation, width = 11, font = (\"Times New Roman bold\", 14))\n",
    "btn_equals.grid(row = 6, column = 3, columnspan = 2)\n",
    "\n",
    "window.mainloop()"
   ]
  },
  {
   "cell_type": "code",
   "execution_count": 72,
   "id": "8d358633",
   "metadata": {},
   "outputs": [],
   "source": []
  },
  {
   "cell_type": "code",
   "execution_count": null,
   "id": "6f850d22",
   "metadata": {},
   "outputs": [],
   "source": []
  }
 ],
 "metadata": {
  "kernelspec": {
   "display_name": "Python 3 (ipykernel)",
   "language": "python",
   "name": "python3"
  },
  "language_info": {
   "codemirror_mode": {
    "name": "ipython",
    "version": 3
   },
   "file_extension": ".py",
   "mimetype": "text/x-python",
   "name": "python",
   "nbconvert_exporter": "python",
   "pygments_lexer": "ipython3",
   "version": "3.11.5"
  }
 },
 "nbformat": 4,
 "nbformat_minor": 5
}
